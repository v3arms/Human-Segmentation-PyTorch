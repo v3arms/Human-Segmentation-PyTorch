{
 "cells": [
  {
   "cell_type": "code",
   "execution_count": 23,
   "metadata": {},
   "outputs": [],
   "source": [
    "from base.base_inference import VideoInference\n",
    "from models import UNet\n",
    "from models import DeepLabV3Plus\n",
    "from subprocess import call\n",
    "import torch\n",
    "import ffmpeg"
   ]
  },
  {
   "cell_type": "code",
   "execution_count": 24,
   "metadata": {},
   "outputs": [],
   "source": [
    "CHECKPOINT = \"./pretr/DeepLabV3Plus_ResNet18.pth\"\n",
    "BACKBONE   = \"resnet18\"\n",
    "VIDEO_INP  = \"./vd/bar.mp4\"\n",
    "VIDEO_OUT  = \"./vd/out.mp4\"\n",
    "VIDEO_TMP  = \"./vd/.tmp.mp4\""
   ]
  },
  {
   "cell_type": "code",
   "execution_count": 15,
   "metadata": {},
   "outputs": [
    {
     "name": "stdout",
     "output_type": "stream",
     "text": [
      "Tue Mar 24 10:43:15 2020       \r\n",
      "+-----------------------------------------------------------------------------+\r\n",
      "| NVIDIA-SMI 418.56       Driver Version: 418.56       CUDA Version: 10.1     |\r\n",
      "|-------------------------------+----------------------+----------------------+\r\n",
      "| GPU  Name        Persistence-M| Bus-Id        Disp.A | Volatile Uncorr. ECC |\r\n",
      "| Fan  Temp  Perf  Pwr:Usage/Cap|         Memory-Usage | GPU-Util  Compute M. |\r\n",
      "|===============================+======================+======================|\r\n",
      "|   0  GeForce RTX 208...  Off  | 00000000:01:00.0  On |                  N/A |\r\n",
      "| 68%   76C    P2   196W / 250W |  10952MiB / 10989MiB |     83%      Default |\r\n",
      "+-------------------------------+----------------------+----------------------+\r\n",
      "|   1  GeForce GTX 108...  Off  | 00000000:02:00.0 Off |                  N/A |\r\n",
      "| 30%   49C    P8    10W / 250W |    765MiB / 11178MiB |      0%      Default |\r\n",
      "+-------------------------------+----------------------+----------------------+\r\n",
      "                                                                               \r\n",
      "+-----------------------------------------------------------------------------+\r\n",
      "| Processes:                                                       GPU Memory |\r\n",
      "|  GPU       PID   Type   Process name                             Usage      |\r\n",
      "|=============================================================================|\r\n",
      "|    0      1310      G   /usr/lib/xorg/Xorg                           109MiB |\r\n",
      "|    0     24062      C   /home/team_nn/sadka/bin/python3            10831MiB |\r\n",
      "|    1      8926      C   ...irg/miniconda3/envs/onnx_cf2/bin/python   753MiB |\r\n",
      "+-----------------------------------------------------------------------------+\r\n"
     ]
    }
   ],
   "source": [
    "!nvidia-smi"
   ]
  },
  {
   "cell_type": "code",
   "execution_count": 16,
   "metadata": {},
   "outputs": [
    {
     "data": {
      "text/plain": [
       "1"
      ]
     },
     "execution_count": 16,
     "metadata": {},
     "output_type": "execute_result"
    }
   ],
   "source": [
    "torch.cuda.set_device(1)\n",
    "torch.cuda.current_device()"
   ]
  },
  {
   "cell_type": "code",
   "execution_count": 25,
   "metadata": {},
   "outputs": [
    {
     "name": "stdout",
     "output_type": "stream",
     "text": [
      "[ResNet] Initialize weights...\n",
      "ok\n"
     ]
    }
   ],
   "source": [
    "model = DeepLabV3Plus(backbone=BACKBONE, num_classes=2)\n",
    "trained_dict = torch.load(CHECKPOINT, map_location=\"cpu\")['state_dict']\n",
    "model.load_state_dict(trained_dict, strict=False)\n",
    "model.cuda()\n",
    "model.eval()\n",
    "print('ok')"
   ]
  },
  {
   "cell_type": "code",
   "execution_count": 27,
   "metadata": {},
   "outputs": [
    {
     "name": "stderr",
     "output_type": "stream",
     "text": [
      "100% (1000 of 1000) |####################| Elapsed Time: 0:00:20 Time:  0:00:20\n"
     ]
    }
   ],
   "source": [
    "call([\"rm\", VIDEO_TMP])\n",
    "inference = VideoInference(\n",
    "    model=model,\n",
    "    video_path=VIDEO_INP,\n",
    "    video_out_path=VIDEO_TMP,\n",
    "    input_size=480,\n",
    "    background_path = \"./backgrounds/white.jpg\",\n",
    "    use_cuda=True,\n",
    "    draw_mode='matting',\n",
    "    frame_range=(0, 1000)\n",
    ")\n",
    "inference.run()"
   ]
  },
  {
   "cell_type": "code",
   "execution_count": 16,
   "metadata": {},
   "outputs": [],
   "source": [
    "?ffmpeg.output"
   ]
  },
  {
   "cell_type": "code",
   "execution_count": 28,
   "metadata": {},
   "outputs": [
    {
     "data": {
      "text/plain": [
       "(None, None)"
      ]
     },
     "execution_count": 28,
     "metadata": {},
     "output_type": "execute_result"
    }
   ],
   "source": [
    "in1 = ffmpeg.input(VIDEO_INP)\n",
    "in2 = ffmpeg.input(VIDEO_TMP)\n",
    "out = ffmpeg.output(in1.audio, in2.video, VIDEO_OUT)\n",
    "out.run(overwrite_output=True)"
   ]
  },
  {
   "cell_type": "code",
   "execution_count": 29,
   "metadata": {},
   "outputs": [
    {
     "data": {
      "text/html": [
       "<video src=\"./vd/out.mp4\" controls  width=\"350\"  height=\"350\">\n",
       "      Your browser does not support the <code>video</code> element.\n",
       "    </video>"
      ],
      "text/plain": [
       "<IPython.core.display.Video object>"
      ]
     },
     "execution_count": 29,
     "metadata": {},
     "output_type": "execute_result"
    }
   ],
   "source": [
    "from IPython.display import Video\n",
    "Video(VIDEO_OUT, width = 350, height = 350)"
   ]
  },
  {
   "cell_type": "code",
   "execution_count": null,
   "metadata": {},
   "outputs": [],
   "source": []
  }
 ],
 "metadata": {
  "kernelspec": {
   "display_name": "Python [conda env:onnx_cf2] *",
   "language": "python",
   "name": "conda-env-onnx_cf2-py"
  },
  "language_info": {
   "codemirror_mode": {
    "name": "ipython",
    "version": 3
   },
   "file_extension": ".py",
   "mimetype": "text/x-python",
   "name": "python",
   "nbconvert_exporter": "python",
   "pygments_lexer": "ipython3",
   "version": "3.6.9"
  }
 },
 "nbformat": 4,
 "nbformat_minor": 4
}
