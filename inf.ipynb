{
 "cells": [
  {
   "cell_type": "code",
   "execution_count": 1,
   "metadata": {},
   "outputs": [],
   "source": [
    "from base.base_inference import VideoInference\n",
    "from models import UNet\n",
    "from models import DeepLabV3Plus\n",
    "from subprocess import call\n",
    "import torch\n",
    "import ffmpeg"
   ]
  },
  {
   "cell_type": "code",
   "execution_count": 16,
   "metadata": {},
   "outputs": [],
   "source": [
    "# CHECKPOINT = \"./pretr/DeepLabV3Plus_ResNet18.pth\"\n",
    "CHECKPOINT = \"pretr/model_best.pth\"\n",
    "BACKBONE   = \"resnet18\"\n",
    "VIDEO_INP  = \"./vd/5.mp4\"\n",
    "VIDEO_OUT  = \"./vd/out.mp4\"\n",
    "VIDEO_TMP  = \"./vd/.tmp.mp4\""
   ]
  },
  {
   "cell_type": "code",
   "execution_count": 19,
   "metadata": {},
   "outputs": [
    {
     "output_type": "stream",
     "name": "stdout",
     "text": "Wed Mar 25 18:36:43 2020       \n+-----------------------------------------------------------------------------+\n| NVIDIA-SMI 418.56       Driver Version: 418.56       CUDA Version: 10.1     |\n|-------------------------------+----------------------+----------------------+\n| GPU  Name        Persistence-M| Bus-Id        Disp.A | Volatile Uncorr. ECC |\n| Fan  Temp  Perf  Pwr:Usage/Cap|         Memory-Usage | GPU-Util  Compute M. |\n|===============================+======================+======================|\n|   0  GeForce RTX 208...  Off  | 00000000:01:00.0  On |                  N/A |\n| 26%   43C    P8    23W / 250W |    121MiB / 10989MiB |      0%      Default |\n+-------------------------------+----------------------+----------------------+\n|   1  GeForce GTX 108...  Off  | 00000000:02:00.0 Off |                  N/A |\n| 23%   38C    P8    10W / 250W |    727MiB / 11178MiB |      0%      Default |\n+-------------------------------+----------------------+----------------------+\n                                                                               \n+-----------------------------------------------------------------------------+\n| Processes:                                                       GPU Memory |\n|  GPU       PID   Type   Process name                             Usage      |\n|=============================================================================|\n|    0      1310      G   /usr/lib/xorg/Xorg                           109MiB |\n|    1     23155      C   ...irg/miniconda3/envs/humanseg/bin/python   715MiB |\n+-----------------------------------------------------------------------------+\n"
    }
   ],
   "source": [
    "!nvidia-smi"
   ]
  },
  {
   "cell_type": "code",
   "execution_count": 3,
   "metadata": {},
   "outputs": [
    {
     "output_type": "execute_result",
     "data": {
      "text/plain": "1"
     },
     "metadata": {},
     "execution_count": 3
    }
   ],
   "source": [
    "torch.cuda.set_device(1)\n",
    "torch.cuda.current_device()"
   ]
  },
  {
   "cell_type": "code",
   "execution_count": 4,
   "metadata": {},
   "outputs": [
    {
     "output_type": "stream",
     "name": "stdout",
     "text": "[ResNet] Initialize weights...\nok\n"
    }
   ],
   "source": [
    "model = DeepLabV3Plus(backbone=BACKBONE, num_classes=2)\n",
    "trained_dict = torch.load(CHECKPOINT, map_location=\"cpu\")['state_dict']\n",
    "model.load_state_dict(trained_dict, strict=False)\n",
    "model.cuda()\n",
    "model.eval()\n",
    "print('ok')"
   ]
  },
  {
   "cell_type": "code",
   "execution_count": 17,
   "metadata": {},
   "outputs": [
    {
     "output_type": "stream",
     "name": "stderr",
     "text": "100% (2271 of 2271) |####################| Elapsed Time: 0:02:45 Time:  0:02:45\n"
    }
   ],
   "source": [
    "call([\"rm\", VIDEO_TMP])\n",
    "inference = VideoInference(\n",
    "    model=model,\n",
    "    video_path=VIDEO_INP,\n",
    "    video_out_path=VIDEO_TMP,\n",
    "    input_size=480,\n",
    "    background_path = \"./backgrounds/white.jpg\",\n",
    "    use_cuda=True,\n",
    "    draw_mode='matting'\n",
    "    # frame_range=(0, 1000)\n",
    ")\n",
    "inference.run()"
   ]
  },
  {
   "cell_type": "code",
   "execution_count": 18,
   "metadata": {},
   "outputs": [
    {
     "output_type": "execute_result",
     "data": {
      "text/plain": "(None, None)"
     },
     "metadata": {},
     "execution_count": 18
    }
   ],
   "source": [
    "in1 = ffmpeg.input(VIDEO_INP)\n",
    "in2 = ffmpeg.input(VIDEO_TMP)\n",
    "out = ffmpeg.output(in1.audio, in2.video, VIDEO_OUT)\n",
    "out.run(overwrite_output=True)"
   ]
  },
  {
   "cell_type": "code",
   "execution_count": null,
   "metadata": {},
   "outputs": [],
   "source": []
  }
 ],
 "metadata": {
  "kernelspec": {
   "display_name": "Python 3",
   "language": "python",
   "name": "python3"
  },
  "language_info": {
   "codemirror_mode": {
    "name": "ipython",
    "version": 3
   },
   "file_extension": ".py",
   "mimetype": "text/x-python",
   "name": "python",
   "nbconvert_exporter": "python",
   "pygments_lexer": "ipython3",
   "version": "3.6.10-final"
  }
 },
 "nbformat": 4,
 "nbformat_minor": 4
}